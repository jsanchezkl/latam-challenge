{
 "cells": [
  {
   "cell_type": "code",
   "execution_count": 42,
   "metadata": {},
   "outputs": [
    {
     "name": "stdout",
     "output_type": "stream",
     "text": [
      "[(datetime.date(2021, 2, 12), 'RanbirS00614606'), (datetime.date(2021, 2, 13), 'MaanDee08215437'), (datetime.date(2021, 2, 17), 'RaaJVinderkaur'), (datetime.date(2021, 2, 16), 'jot__b'), (datetime.date(2021, 2, 14), 'rebelpacifist'), (datetime.date(2021, 2, 18), 'neetuanjle_nitu'), (datetime.date(2021, 2, 15), 'jot__b'), (datetime.date(2021, 2, 20), 'MangalJ23056160'), (datetime.date(2021, 2, 23), 'Surrypuria'), (datetime.date(2021, 2, 19), 'Preetm91')]\n"
     ]
    }
   ],
   "source": [
    "import importlib\n",
    "import q1_time\n",
    "importlib.reload(q1_time)\n",
    "\n",
    "from q1_time import q1_time\n",
    "file_path = \"../tweets/farmers-protest-tweets-2021-2-4.json\"\n",
    "result = q1_time(file_path)\n",
    "if result:\n",
    "         print(result)\n",
    "else:\n",
    "    print(\"No se encontraron resultados.\")"
   ]
  },
  {
   "cell_type": "code",
   "execution_count": 47,
   "metadata": {},
   "outputs": [
    {
     "name": "stdout",
     "output_type": "stream",
     "text": [
      "[(datetime.date(2021, 2, 12), 'RanbirS00614606'), (datetime.date(2021, 2, 13), 'MaanDee08215437'), (datetime.date(2021, 2, 17), 'RaaJVinderkaur'), (datetime.date(2021, 2, 16), 'jot__b'), (datetime.date(2021, 2, 14), 'rebelpacifist'), (datetime.date(2021, 2, 18), 'neetuanjle_nitu'), (datetime.date(2021, 2, 15), 'jot__b'), (datetime.date(2021, 2, 20), 'MangalJ23056160'), (datetime.date(2021, 2, 23), 'Surrypuria'), (datetime.date(2021, 2, 19), 'Preetm91')]\n"
     ]
    }
   ],
   "source": [
    "import importlib\n",
    "import q1_memory\n",
    "importlib.reload(q1_memory)\n",
    "\n",
    "from q1_memory import q1_memory\n",
    "file_path = \"../tweets/farmers-protest-tweets-2021-2-4.json\"\n",
    "result = q1_memory(file_path)\n",
    "if result:\n",
    "         print(result)\n",
    "else:\n",
    "    print(\"No se encontraron resultados.\")"
   ]
  },
  {
   "cell_type": "code",
   "execution_count": null,
   "metadata": {},
   "outputs": [
    {
     "name": "stdout",
     "output_type": "stream",
     "text": [
      "[(datetime.date(2021, 2, 12), 'RanbirS00614606'), (datetime.date(2021, 2, 13), 'MaanDee08215437'), (datetime.date(2021, 2, 17), 'RaaJVinderkaur'), (datetime.date(2021, 2, 16), 'jot__b'), (datetime.date(2021, 2, 14), 'rebelpacifist'), (datetime.date(2021, 2, 18), 'neetuanjle_nitu'), (datetime.date(2021, 2, 15), 'jot__b'), (datetime.date(2021, 2, 20), 'MangalJ23056160'), (datetime.date(2021, 2, 23), 'Surrypuria'), (datetime.date(2021, 2, 19), 'Preetm91')]\n",
      "Tiempo de ejecución: 9.87 segundos\n",
      "Memoria utilizada: 4.45 MiB\n"
     ]
    }
   ],
   "source": [
    "import importlib\n",
    "import q1_time\n",
    "import time\n",
    "import tracemalloc\n",
    "\n",
    "importlib.reload(q1_time)\n",
    "\n",
    "from q1_time import q1_time\n",
    "\n",
    "file_path = \"../tweets/farmers-protest-tweets-2021-2-4.json\"\n",
    "start_time = time.time()\n",
    "tracemalloc.start()\n",
    "result = q1_time(file_path)\n",
    "current, peak = tracemalloc.get_traced_memory()\n",
    "tracemalloc.stop()\n",
    "end_time = time.time()\n",
    "if result:\n",
    "    print(result)\n",
    "else:\n",
    "    print(\"No se encontraron resultados.\")\n",
    "execution_time = end_time - start_time\n",
    "print(f\"Tiempo de ejecución: {execution_time:.2f} segundos\")\n",
    "memory_used = peak / (1024 * 1024)\n",
    "print(f\"Memoria utilizada: {memory_used:.2f} MiB\")\n"
   ]
  },
  {
   "cell_type": "code",
   "execution_count": null,
   "metadata": {},
   "outputs": [
    {
     "name": "stdout",
     "output_type": "stream",
     "text": [
      "[(datetime.date(2021, 2, 12), 'RanbirS00614606'), (datetime.date(2021, 2, 13), 'MaanDee08215437'), (datetime.date(2021, 2, 17), 'RaaJVinderkaur'), (datetime.date(2021, 2, 16), 'jot__b'), (datetime.date(2021, 2, 14), 'rebelpacifist'), (datetime.date(2021, 2, 18), 'neetuanjle_nitu'), (datetime.date(2021, 2, 15), 'jot__b'), (datetime.date(2021, 2, 20), 'MangalJ23056160'), (datetime.date(2021, 2, 23), 'Surrypuria'), (datetime.date(2021, 2, 19), 'Preetm91')]\n",
      "Tiempo de ejecución: 20.36 segundos\n",
      "Memoria utilizada: 3.77 MiB\n"
     ]
    }
   ],
   "source": [
    "import importlib\n",
    "import q1_memory\n",
    "import time\n",
    "import tracemalloc\n",
    "\n",
    "importlib.reload(q1_memory)\n",
    "\n",
    "from q1_memory import q1_memory\n",
    "\n",
    "file_path = \"../tweets/farmers-protest-tweets-2021-2-4.json\"\n",
    "start_time = time.time()\n",
    "tracemalloc.start()\n",
    "result = q1_memory(file_path)\n",
    "current, peak = tracemalloc.get_traced_memory()\n",
    "tracemalloc.stop()\n",
    "end_time = time.time()\n",
    "\n",
    "if result:\n",
    "    print(result)\n",
    "else:\n",
    "    print(\"No se encontraron resultados.\")\n",
    "execution_time = end_time - start_time\n",
    "print(f\"Tiempo de ejecución: {execution_time:.2f} segundos\")\n",
    "memory_used = peak / (1024 * 1024)\n",
    "print(f\"Memoria utilizada: {memory_used:.2f} MiB\")\n"
   ]
  },
  {
   "cell_type": "code",
   "execution_count": 57,
   "metadata": {},
   "outputs": [
    {
     "name": "stdout",
     "output_type": "stream",
     "text": [
      "[('🙏', 1916), ('❤️', 952), ('😂', 627), ('🌾', 529), ('💚', 493), ('👍', 459), ('👉', 450), ('✊', 437), ('🇮🇳', 399), ('👇', 387)]\n"
     ]
    }
   ],
   "source": [
    "import importlib\n",
    "import q2_time\n",
    "importlib.reload(q2_time)\n",
    "\n",
    "from q2_time import q2_time\n",
    "file_path = \"../tweets/farmers-protest-tweets-2021-2-4.json\"\n",
    "result = q2_time(file_path)\n",
    "if result:\n",
    "         print(result)\n",
    "else:\n",
    "    print(\"No se encontraron resultados.\")"
   ]
  },
  {
   "cell_type": "code",
   "execution_count": 58,
   "metadata": {},
   "outputs": [
    {
     "name": "stdout",
     "output_type": "stream",
     "text": [
      "[('🙏', 1916), ('❤️', 952), ('😂', 627), ('🌾', 529), ('💚', 493), ('👍', 459), ('👉', 450), ('✊', 437), ('🇮🇳', 399), ('👇', 387)]\n"
     ]
    }
   ],
   "source": [
    "import importlib\n",
    "import q2_memory\n",
    "importlib.reload(q2_memory)\n",
    "\n",
    "from q2_memory import q2_memory\n",
    "file_path = \"../tweets/farmers-protest-tweets-2021-2-4.json\"\n",
    "result = q2_memory(file_path)\n",
    "if result:\n",
    "         print(result)\n",
    "else:\n",
    "    print(\"No se encontraron resultados.\")"
   ]
  },
  {
   "cell_type": "code",
   "execution_count": 59,
   "metadata": {},
   "outputs": [
    {
     "name": "stdout",
     "output_type": "stream",
     "text": [
      "[('🙏', 1916), ('❤️', 952), ('😂', 627), ('🌾', 529), ('💚', 493), ('👍', 459), ('👉', 450), ('✊', 437), ('🇮🇳', 399), ('👇', 387)]\n",
      "Tiempo de ejecución: 10.17 segundos\n",
      "Memoria utilizada: 0.49 MiB\n"
     ]
    }
   ],
   "source": [
    "import importlib\n",
    "import q2_time\n",
    "import time\n",
    "import tracemalloc\n",
    "\n",
    "importlib.reload(q2_time)\n",
    "\n",
    "from q2_time import q2_time\n",
    "\n",
    "file_path = \"../tweets/farmers-protest-tweets-2021-2-4.json\"\n",
    "start_time = time.time()\n",
    "tracemalloc.start()\n",
    "result = q2_time(file_path)\n",
    "current, peak = tracemalloc.get_traced_memory()\n",
    "tracemalloc.stop()\n",
    "end_time = time.time()\n",
    "if result:\n",
    "    print(result)\n",
    "else:\n",
    "    print(\"No se encontraron resultados.\")\n",
    "execution_time = end_time - start_time\n",
    "print(f\"Tiempo de ejecución: {execution_time:.2f} segundos\")\n",
    "memory_used = peak / (1024 * 1024)\n",
    "print(f\"Memoria utilizada: {memory_used:.2f} MiB\")\n"
   ]
  },
  {
   "cell_type": "code",
   "execution_count": 60,
   "metadata": {},
   "outputs": [
    {
     "name": "stdout",
     "output_type": "stream",
     "text": [
      "[('🙏', 1916), ('❤️', 952), ('😂', 627), ('🌾', 529), ('💚', 493), ('👍', 459), ('👉', 450), ('✊', 437), ('🇮🇳', 399), ('👇', 387)]\n",
      "Tiempo de ejecución: 10.23 segundos\n",
      "Memoria utilizada: 0.50 MiB\n"
     ]
    }
   ],
   "source": [
    "import importlib\n",
    "import q2_memory\n",
    "import time\n",
    "import tracemalloc\n",
    "\n",
    "importlib.reload(q2_memory)\n",
    "\n",
    "from q2_memory import q2_memory\n",
    "\n",
    "file_path = \"../tweets/farmers-protest-tweets-2021-2-4.json\"\n",
    "start_time = time.time()\n",
    "tracemalloc.start()\n",
    "result = q2_memory(file_path)\n",
    "current, peak = tracemalloc.get_traced_memory()\n",
    "tracemalloc.stop()\n",
    "end_time = time.time()\n",
    "if result:\n",
    "    print(result)\n",
    "else:\n",
    "    print(\"No se encontraron resultados.\")\n",
    "execution_time = end_time - start_time\n",
    "print(f\"Tiempo de ejecución: {execution_time:.2f} segundos\")\n",
    "memory_used = peak / (1024 * 1024)\n",
    "print(f\"Memoria utilizada: {memory_used:.2f} MiB\")"
   ]
  },
  {
   "cell_type": "code",
   "execution_count": 62,
   "metadata": {},
   "outputs": [
    {
     "name": "stdout",
     "output_type": "stream",
     "text": [
      "[('narendramodi', 2261), ('Kisanektamorcha', 1836), ('RakeshTikaitBKU', 1639), ('PMOIndia', 1422), ('RahulGandhi', 1125), ('GretaThunberg', 1046), ('RaviSinghKA', 1015), ('rihanna', 972), ('UNHumanRights', 962), ('meenaharris', 925)]\n"
     ]
    }
   ],
   "source": [
    "import importlib\n",
    "import q3_time\n",
    "importlib.reload(q3_time)\n",
    "\n",
    "from q3_time import q3_time\n",
    "file_path = \"../tweets/farmers-protest-tweets-2021-2-4.json\"\n",
    "result = q3_time(file_path)\n",
    "if result:\n",
    "         print(result)\n",
    "else:\n",
    "    print(\"No se encontraron resultados.\")"
   ]
  },
  {
   "cell_type": "code",
   "execution_count": 63,
   "metadata": {},
   "outputs": [
    {
     "name": "stdout",
     "output_type": "stream",
     "text": [
      "[('narendramodi', 2261), ('Kisanektamorcha', 1836), ('RakeshTikaitBKU', 1639), ('PMOIndia', 1422), ('RahulGandhi', 1125), ('GretaThunberg', 1046), ('RaviSinghKA', 1015), ('rihanna', 972), ('UNHumanRights', 962), ('meenaharris', 925)]\n"
     ]
    }
   ],
   "source": [
    "import importlib\n",
    "import q3_memory\n",
    "importlib.reload(q3_memory)\n",
    "\n",
    "from q3_memory import q3_memory\n",
    "file_path = \"../tweets/farmers-protest-tweets-2021-2-4.json\"\n",
    "result = q3_memory(file_path)\n",
    "if result:\n",
    "         print(result)\n",
    "else:\n",
    "    print(\"No se encontraron resultados.\")"
   ]
  }
 ],
 "metadata": {
  "kernelspec": {
   "display_name": "base",
   "language": "python",
   "name": "python3"
  },
  "language_info": {
   "codemirror_mode": {
    "name": "ipython",
    "version": 3
   },
   "file_extension": ".py",
   "mimetype": "text/x-python",
   "name": "python",
   "nbconvert_exporter": "python",
   "pygments_lexer": "ipython3",
   "version": "3.11.5"
  }
 },
 "nbformat": 4,
 "nbformat_minor": 2
}
